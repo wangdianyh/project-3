{
 "cells": [
  {
   "cell_type": "code",
   "execution_count": 1,
   "metadata": {
    "collapsed": true
   },
   "outputs": [],
   "source": [
    "import pandas as pd\n",
    "import requests\n",
    "import pymongo"
   ]
  },
  {
   "cell_type": "code",
   "execution_count": 3,
   "metadata": {
    "collapsed": true
   },
   "outputs": [],
   "source": [
    "base_url = 'https://pokeapi.co/api/v2/'"
   ]
  },
  {
   "cell_type": "code",
   "execution_count": 11,
   "metadata": {
    "collapsed": true
   },
   "outputs": [],
   "source": [
    "# get all pokemon \n",
    "pokemon_url = base_url + 'pokemon/?offset=0&limit=964'\n",
    "evolution_url = base_url + 'evolution-chain/?offset=0&limit=419'"
   ]
  },
  {
   "cell_type": "code",
   "execution_count": 12,
   "metadata": {
    "collapsed": true
   },
   "outputs": [],
   "source": [
    "pokemon_r = requests.get(pokemon_url)"
   ]
  },
  {
   "cell_type": "code",
   "execution_count": 16,
   "metadata": {},
   "outputs": [
    {
     "data": {
      "text/plain": [
       "<pymongo.results.InsertManyResult at 0x110bff408>"
      ]
     },
     "execution_count": 16,
     "metadata": {},
     "output_type": "execute_result"
    }
   ],
   "source": [
    "pokemon_index = pokemon_r.json()['results']\n",
    "# save raw data to my mongoDB\n",
    "client = pymongo.MongoClient('mongodb://localhost:27017/')\n",
    "# create database\n",
    "db = client.pokemon_db\n",
    "# create colletions\n",
    "col = db['pokemon_index']\n",
    "col.insert_many(pokemon_index)"
   ]
  },
  {
   "cell_type": "code",
   "execution_count": 19,
   "metadata": {
    "collapsed": true
   },
   "outputs": [],
   "source": [
    "pokemon_details = []\n",
    "for item in pokemon_index:\n",
    "    url = item['url']\n",
    "    pokemon_detail = requests.get(url).json()\n",
    "    pokemon_details.append(pokemon_detail) "
   ]
  },
  {
   "cell_type": "code",
   "execution_count": 21,
   "metadata": {},
   "outputs": [
    {
     "data": {
      "text/plain": [
       "<pymongo.results.InsertManyResult at 0x132dd3088>"
      ]
     },
     "execution_count": 21,
     "metadata": {},
     "output_type": "execute_result"
    }
   ],
   "source": [
    "pokemon_col = db['pokemon_data']\n",
    "pokemon_col.insert_many(pokemon_details)"
   ]
  },
  {
   "cell_type": "markdown",
   "metadata": {},
   "source": [
    "#Pokemon evolution"
   ]
  },
  {
   "cell_type": "code",
   "execution_count": null,
   "metadata": {
    "collapsed": true
   },
   "outputs": [],
   "source": [
    "evolution_chain = requests.get(evolution_url).json()['results']\n",
    "\n",
    "def evolve_pokemon(url):\n",
    "    url = url\n",
    "    d = requests.get(url).json()['chain']\n",
    "    chain = []\n",
    "    chain.append(d['species']['name'])\n",
    "    evolve = d['evolves_to']\n",
    "    while(evolve != []):\n",
    "        chain.append(evolve[0]['species']['name'])\n",
    "        evolve = evolve[0]['evolves_to']\n",
    "    return chain\n",
    "\n",
    "evolution_data = []\n",
    "\n",
    "for index, item in enumerate(evolution_chain):\n",
    "    url = item['url']\n",
    "    pokemon = evolve_pokemon(url)\n",
    "    data = {'evl_id': index, 'chain': pokemon, 'stage': len(pokemon)}\n",
    "    evolution_data.append(data)\n",
    "\n",
    "# save raw data to my mongoDB\n",
    "client = pymongo.MongoClient('mongodb://localhost:27017/')\n",
    "\n",
    "# create database\n",
    "db = client.pokemon_db\n",
    "\n",
    "# create colletions\n",
    "col = db['pokemon_evolve']\n",
    "col.insert_many(evolution_data)"
   ]
  }
 ],
 "metadata": {
  "kernelspec": {
   "display_name": "Python 3",
   "language": "python",
   "name": "python3"
  },
  "language_info": {
   "codemirror_mode": {
    "name": "ipython",
    "version": 3
   },
   "file_extension": ".py",
   "mimetype": "text/x-python",
   "name": "python",
   "nbconvert_exporter": "python",
   "pygments_lexer": "ipython3",
   "version": "3.6.3"
  }
 },
 "nbformat": 4,
 "nbformat_minor": 2
}
