{
 "cells": [
  {
   "cell_type": "code",
   "execution_count": 1,
   "metadata": {
    "collapsed": true
   },
   "outputs": [],
   "source": [
    "%matplotlib inline\n",
    "import pandas as pd\n",
    "import numpy as np\n",
    "import matplotlib.pyplot as plt\n",
    "from pymongo import MongoClient\n",
    "import seaborn as sns"
   ]
  },
  {
   "cell_type": "code",
   "execution_count": 2,
   "metadata": {
    "collapsed": true
   },
   "outputs": [],
   "source": [
    "from sklearn import linear_model\n",
    "from sklearn.metrics import mean_squared_error, r2_score\n",
    "from sklearn.model_selection import train_test_split"
   ]
  },
  {
   "cell_type": "code",
   "execution_count": 5,
   "metadata": {
    "collapsed": true
   },
   "outputs": [],
   "source": [
    "# connect to mongoDB\n",
    "client = MongoClient('mongodb://localhost:27017/')\n",
    "db = client.pokemon_db"
   ]
  },
  {
   "cell_type": "code",
   "execution_count": 3,
   "metadata": {
    "collapsed": true
   },
   "outputs": [],
   "source": [
    "combats = pd.read_csv('csv/combats.csv')"
   ]
  },
  {
   "cell_type": "code",
   "execution_count": 4,
   "metadata": {
    "collapsed": true
   },
   "outputs": [],
   "source": [
    "# get the first 40,000 rows as train data\n",
    "combats_train = combats[:40000]"
   ]
  },
  {
   "cell_type": "code",
   "execution_count": 5,
   "metadata": {
    "collapsed": true
   },
   "outputs": [],
   "source": [
    "winner = combats_train.groupby('Winner').count().reset_index()\n",
    "winner = winner.drop(columns=['Second_pokemon']).rename(columns={'Winner': 'pokemon_id', 'First_pokemon': 'win_battle'})"
   ]
  },
  {
   "cell_type": "code",
   "execution_count": 6,
   "metadata": {
    "collapsed": true
   },
   "outputs": [],
   "source": [
    "loser = []\n",
    "for index, row in combats_train.iterrows():\n",
    "    first = row[0]\n",
    "    second = row[1]\n",
    "    win = row[2]\n",
    "    \n",
    "    if(first == win):\n",
    "        lose = second \n",
    "    else: \n",
    "        lose = first\n",
    "    loser.append(lose)"
   ]
  },
  {
   "cell_type": "code",
   "execution_count": 7,
   "metadata": {},
   "outputs": [
    {
     "name": "stderr",
     "output_type": "stream",
     "text": [
      "/anaconda3/lib/python3.6/site-packages/ipykernel_launcher.py:1: SettingWithCopyWarning: \n",
      "A value is trying to be set on a copy of a slice from a DataFrame.\n",
      "Try using .loc[row_indexer,col_indexer] = value instead\n",
      "\n",
      "See the caveats in the documentation: http://pandas.pydata.org/pandas-docs/stable/indexing.html#indexing-view-versus-copy\n",
      "  \"\"\"Entry point for launching an IPython kernel.\n"
     ]
    }
   ],
   "source": [
    "combats_train['loser'] = loser"
   ]
  },
  {
   "cell_type": "code",
   "execution_count": 8,
   "metadata": {
    "collapsed": true
   },
   "outputs": [],
   "source": [
    "lost_df = combats_train.groupby('loser').count().reset_index().drop(columns=['Second_pokemon', 'First_pokemon']).rename(columns={'loser': 'pokemon_id', 'Winner': 'lose_battle'})"
   ]
  },
  {
   "cell_type": "markdown",
   "metadata": {},
   "source": [
    "# get pokemon battle data df"
   ]
  },
  {
   "cell_type": "code",
   "execution_count": 9,
   "metadata": {
    "collapsed": true
   },
   "outputs": [],
   "source": [
    "full = lost_df.merge(winner, on='pokemon_id', how='outer')"
   ]
  },
  {
   "cell_type": "code",
   "execution_count": 10,
   "metadata": {
    "collapsed": true
   },
   "outputs": [],
   "source": [
    "full['battle_num'] = full.lose_battle + full.win_battle\n",
    "full['win_rate'] = np.round(full.win_battle / full.battle_num * 100, decimals=2)"
   ]
  },
  {
   "cell_type": "raw",
   "metadata": {},
   "source": [
    "# save full df to mongoDB for furture use\n",
    "col_full = db['pokemon_battle']\n",
    "col_full.insert_many(full.to_dict('records'))"
   ]
  },
  {
   "cell_type": "code",
   "execution_count": 12,
   "metadata": {
    "collapsed": true
   },
   "outputs": [],
   "source": [
    "sns.set(color_codes=True)"
   ]
  },
  {
   "cell_type": "code",
   "execution_count": 15,
   "metadata": {},
   "outputs": [
    {
     "data": {
      "image/png": "[encoded data removed]",
      "text/plain": [
       "<Figure size 432x288 with 1 Axes>"
      ]
     },
     "metadata": {},
     "output_type": "display_data"
    }
   ],
   "source": [
    "full.plot.scatter(x='win_battle', y='win_rate').get_figure().savefig(\"../static/img/linear\", bbox_inches=\"tight\")\n"
   ]
  },
  {
   "cell_type": "markdown",
   "metadata": {},
   "source": [
    "# check linear model win_rate error"
   ]
  },
  {
   "cell_type": "code",
   "execution_count": 16,
   "metadata": {
    "collapsed": true
   },
   "outputs": [],
   "source": [
    "model = linear_model.LinearRegression()"
   ]
  },
  {
   "cell_type": "code",
   "execution_count": 17,
   "metadata": {
    "collapsed": true
   },
   "outputs": [],
   "source": [
    "# drop na in dataframe\n",
    "full_check = full.dropna()"
   ]
  },
  {
   "cell_type": "code",
   "execution_count": 18,
   "metadata": {
    "collapsed": true
   },
   "outputs": [],
   "source": [
    "X = full_check.win_battle.values.reshape(-1, 1)\n",
    "y = full_check.win_rate.values.reshape(-1, 1)\n",
    "X_train, X_test, y_train, y_test = train_test_split(X, y)"
   ]
  },
  {
   "cell_type": "code",
   "execution_count": 19,
   "metadata": {
    "collapsed": true
   },
   "outputs": [],
   "source": [
    "model.fit(X_train, y_train)\n",
    "prediction = model.predict(X_test)"
   ]
  },
  {
   "cell_type": "code",
   "execution_count": 20,
   "metadata": {},
   "outputs": [
    {
     "name": "stdout",
     "output_type": "stream",
     "text": [
      "MSE: 33.47524144279318, R2: 0.9465761303812115\n"
     ]
    }
   ],
   "source": [
    "MSE = mean_squared_error(y_test, prediction)\n",
    "r2 = model.score(X_test, y_test)\n",
    "print(f\"MSE: {MSE}, R2: {r2}\")"
   ]
  },
  {
   "cell_type": "raw",
   "metadata": {},
   "source": [
    "# a very good model\n",
    "# will use it as reference for battle prediction in next step"
   ]
  },
  {
   "cell_type": "code",
   "execution_count": 21,
   "metadata": {},
   "outputs": [
    {
     "name": "stdout",
     "output_type": "stream",
     "text": [
      "[[0.93602631]] [2.24870324]\n",
      "win_rate = 0.94win_bat + 2.25\n"
     ]
    }
   ],
   "source": [
    "print(model.coef_, model.intercept_)\n",
    "a = np.round(model.coef_, decimals=2)\n",
    "b = np.round(model.intercept_, decimals=2)\n",
    "print('win_rate = ' + str(a[0][0]) + 'win_bat + ' + str(b[0]))"
   ]
  },
  {
   "cell_type": "markdown",
   "metadata": {},
   "source": [
    "# battle instance"
   ]
  },
  {
   "cell_type": "code",
   "execution_count": 10,
   "metadata": {
    "collapsed": true
   },
   "outputs": [],
   "source": [
    "bat_instance = []\n",
    "for index, row in combats_train.iterrows():\n",
    "    battle = [row[0], row[1]]\n",
    "    battle.sort()\n",
    "    \n",
    "    battle_inst = str(battle[0]) + 'vs' + str(battle[1])\n",
    "    bat_instance.append(battle_inst)"
   ]
  },
  {
   "cell_type": "code",
   "execution_count": 11,
   "metadata": {},
   "outputs": [
    {
     "name": "stderr",
     "output_type": "stream",
     "text": [
      "/anaconda3/lib/python3.6/site-packages/ipykernel_launcher.py:1: SettingWithCopyWarning: \n",
      "A value is trying to be set on a copy of a slice from a DataFrame.\n",
      "Try using .loc[row_indexer,col_indexer] = value instead\n",
      "\n",
      "See the caveats in the documentation: http://pandas.pydata.org/pandas-docs/stable/indexing.html#indexing-view-versus-copy\n",
      "  \"\"\"Entry point for launching an IPython kernel.\n"
     ]
    }
   ],
   "source": [
    "combats_train['bat_instance'] = bat_instance"
   ]
  },
  {
   "cell_type": "code",
   "execution_count": 12,
   "metadata": {
    "collapsed": true
   },
   "outputs": [],
   "source": [
    "bat_inst_num = combats_train.bat_instance.value_counts().to_frame().reset_index()\n",
    "bat_inst_num = bat_inst_num.rename(columns={'index': 'bat_instance', 'bat_instance': 'instance_num'})"
   ]
  },
  {
   "cell_type": "code",
   "execution_count": 13,
   "metadata": {
    "collapsed": true
   },
   "outputs": [],
   "source": [
    "combats_train = combats_train.merge(bat_inst_num, on='bat_instance', how='left')"
   ]
  },
  {
   "cell_type": "code",
   "execution_count": 14,
   "metadata": {
    "collapsed": true
   },
   "outputs": [],
   "source": [
    "# battle history def\n",
    "def get_win_rate(battle_time, combats_df):\n",
    "    winner_out_list = []\n",
    "    combat_len = len(combats_df)\n",
    "    for i in range(int(combat_len / battle_time)):\n",
    "        # select 'battle_time' rows every time\n",
    "        start_row = i * battle_time\n",
    "        df = combats_df.iloc[start_row: start_row + battle_time]\n",
    "        bt_ins = df.iloc[0]['bat_instance']\n",
    "        winner = df.Winner.value_counts()\n",
    "        if len(winner) == 1:\n",
    "            winner_out = {'bat_instance': bt_ins, 'Winner': winner.index[0], 'win_rate': 100, 'battle_time': battle_time}\n",
    "            winner_out_list.append(winner_out)\n",
    "        else:\n",
    "            win = winner.idxmax()\n",
    "            win_rate = np.round(winner.max() / battle_time * 100, decimals=2)\n",
    "            winner_out_list.append({'bat_instance': bt_ins, 'Winner': win, 'win_rate': win_rate, 'battle_time': battle_time})\n",
    "    \n",
    "    return winner_out_list"
   ]
  },
  {
   "cell_type": "code",
   "execution_count": 15,
   "metadata": {
    "collapsed": true
   },
   "outputs": [],
   "source": [
    "combats_4 = combats_train.loc[combats_train.instance_num == 4].sort_values(by='bat_instance')\n",
    "combats_4_history = get_win_rate(4, combats_4)"
   ]
  },
  {
   "cell_type": "code",
   "execution_count": 16,
   "metadata": {
    "collapsed": true
   },
   "outputs": [],
   "source": [
    "combats_3 = combats_train.loc[combats_train.instance_num == 3].sort_values(by='bat_instance')\n",
    "combats_3_history = get_win_rate(3, combats_3)"
   ]
  },
  {
   "cell_type": "code",
   "execution_count": 17,
   "metadata": {
    "collapsed": true
   },
   "outputs": [],
   "source": [
    "combats_2 = combats_train.loc[combats_train.instance_num == 2].sort_values(by='bat_instance')\n",
    "combats_2_history = get_win_rate(2, combats_2)"
   ]
  },
  {
   "cell_type": "code",
   "execution_count": 18,
   "metadata": {
    "collapsed": true
   },
   "outputs": [],
   "source": [
    "combats_1 = combats_train.loc[combats_train.instance_num == 1].sort_values(by='bat_instance')\n",
    "combats_1_history = get_win_rate(1, combats_1)"
   ]
  },
  {
   "cell_type": "code",
   "execution_count": 19,
   "metadata": {
    "collapsed": true
   },
   "outputs": [],
   "source": [
    "combats_4_history.extend(combats_3_history)\n",
    "combats_4_history.extend(combats_2_history)\n",
    "combats_4_history.extend(combats_1_history)"
   ]
  },
  {
   "cell_type": "code",
   "execution_count": 20,
   "metadata": {
    "collapsed": true
   },
   "outputs": [],
   "source": [
    "combats_history_df = pd.DataFrame(combats_4_history)"
   ]
  },
  {
   "cell_type": "raw",
   "metadata": {},
   "source": [
    "# save combats history to mongo db for future use and update\n",
    "col_combats_history = db['combat_history']\n",
    "col_combats_history.insert_many(combats_history_df.to_dict('records'))"
   ]
  },
  {
   "cell_type": "markdown",
   "metadata": {},
   "source": [
    "# predict model"
   ]
  },
  {
   "cell_type": "code",
   "execution_count": 207,
   "metadata": {
    "collapsed": true
   },
   "outputs": [],
   "source": [
    "# get combat history data from mongoDB\n",
    "col_combat = db['combat_history']\n",
    "combats_history_df = pd.DataFrame(list(col_combat.find())).drop(columns=['_id'])"
   ]
  },
  {
   "cell_type": "code",
   "execution_count": 208,
   "metadata": {
    "collapsed": true
   },
   "outputs": [],
   "source": [
    "# get pokemon battle data from mongoDB\n",
    "col_full = db['pokemon_battle']\n",
    "full = pd.DataFrame(list(col_full.find())).drop(columns=['_id', 'Unnamed: 0'])"
   ]
  },
  {
   "cell_type": "code",
   "execution_count": 209,
   "metadata": {
    "collapsed": true
   },
   "outputs": [],
   "source": [
    "# get win_rate check chart based on battle numbers in history\n",
    "win_rate = combats_history_df.groupby('battle_time').win_rate.value_counts().to_frame().rename(columns={'win_rate': 'win_num'})\n",
    "win_per = [\n",
    "    100, \n",
    "    win_rate.loc[(2, 100)].win_num / (win_rate.loc[(2, 100)].win_num + win_rate.loc[(2, 50)].win_num) * 100,\n",
    "    win_rate.loc[(2, 50)].win_num / (win_rate.loc[(2, 100)].win_num + win_rate.loc[(2, 50)].win_num) * 100,\n",
    "    win_rate.loc[(3, 100)].win_num / (win_rate.loc[(3, 100)].win_num + win_rate.loc[(3, 66.67)].win_num) * 100,\n",
    "    win_rate.loc[(3, 66.67)].win_num / (win_rate.loc[(3, 100)].win_num + win_rate.loc[(3, 66.67)].win_num) * 100,\n",
    "    win_rate.loc[(4, 100)].win_num / (win_rate.loc[(4, 100)].win_num + win_rate.loc[(4, 75)].win_num) * 100,\n",
    "    win_rate.loc[(4, 75)].win_num / (win_rate.loc[(4, 100)].win_num + win_rate.loc[(4, 75)].win_num) * 100,\n",
    "]\n",
    "win_rate['per'] = np.round(win_per, decimals=2)"
   ]
  },
  {
   "cell_type": "code",
   "execution_count": 210,
   "metadata": {},
   "outputs": [
    {
     "data": {
      "text/html": [
       "<div>\n",
       "<style scoped>\n",
       "    .dataframe tbody tr th:only-of-type {\n",
       "        vertical-align: middle;\n",
       "    }\n",
       "\n",
       "    .dataframe tbody tr th {\n",
       "        vertical-align: top;\n",
       "    }\n",
       "\n",
       "    .dataframe thead th {\n",
       "        text-align: right;\n",
       "    }\n",
       "</style>\n",
       "<table border=\"1\" class=\"dataframe\">\n",
       "  <thead>\n",
       "    <tr style=\"text-align: right;\">\n",
       "      <th></th>\n",
       "      <th></th>\n",
       "      <th>win_num</th>\n",
       "      <th>per</th>\n",
       "    </tr>\n",
       "    <tr>\n",
       "      <th>battle_time</th>\n",
       "      <th>win_rate</th>\n",
       "      <th></th>\n",
       "      <th></th>\n",
       "    </tr>\n",
       "  </thead>\n",
       "  <tbody>\n",
       "    <tr>\n",
       "      <th>1</th>\n",
       "      <th>100.00</th>\n",
       "      <td>35156</td>\n",
       "      <td>100.00</td>\n",
       "    </tr>\n",
       "    <tr>\n",
       "      <th rowspan=\"2\" valign=\"top\">2</th>\n",
       "      <th>100.00</th>\n",
       "      <td>2196</td>\n",
       "      <td>96.78</td>\n",
       "    </tr>\n",
       "    <tr>\n",
       "      <th>50.00</th>\n",
       "      <td>73</td>\n",
       "      <td>3.22</td>\n",
       "    </tr>\n",
       "    <tr>\n",
       "      <th rowspan=\"2\" valign=\"top\">3</th>\n",
       "      <th>100.00</th>\n",
       "      <td>91</td>\n",
       "      <td>92.86</td>\n",
       "    </tr>\n",
       "    <tr>\n",
       "      <th>66.67</th>\n",
       "      <td>7</td>\n",
       "      <td>7.14</td>\n",
       "    </tr>\n",
       "    <tr>\n",
       "      <th rowspan=\"2\" valign=\"top\">4</th>\n",
       "      <th>100.00</th>\n",
       "      <td>2</td>\n",
       "      <td>66.67</td>\n",
       "    </tr>\n",
       "    <tr>\n",
       "      <th>75.00</th>\n",
       "      <td>1</td>\n",
       "      <td>33.33</td>\n",
       "    </tr>\n",
       "  </tbody>\n",
       "</table>\n",
       "</div>"
      ],
      "text/plain": [
       "                      win_num     per\n",
       "battle_time win_rate                 \n",
       "1           100.00      35156  100.00\n",
       "2           100.00       2196   96.78\n",
       "            50.00          73    3.22\n",
       "3           100.00         91   92.86\n",
       "            66.67           7    7.14\n",
       "4           100.00          2   66.67\n",
       "            75.00           1   33.33"
      ]
     },
     "execution_count": 210,
     "metadata": {},
     "output_type": "execute_result"
    }
   ],
   "source": [
    "win_rate"
   ]
  },
  {
   "cell_type": "code",
   "execution_count": 211,
   "metadata": {
    "collapsed": true
   },
   "outputs": [],
   "source": [
    "win_rate_check = win_rate"
   ]
  },
  {
   "cell_type": "code",
   "execution_count": 171,
   "metadata": {
    "collapsed": true
   },
   "outputs": [],
   "source": [
    "# data sample (has no battle history in record)\n",
    "pok_t_1 = full.iloc[1]['pokemon_id']\n",
    "pok_t_2 = full.iloc[2]['pokemon_id']"
   ]
  },
  {
   "cell_type": "code",
   "execution_count": 172,
   "metadata": {
    "collapsed": true
   },
   "outputs": [],
   "source": [
    "# check win rate if battle has history\n",
    "enough_history = 50\n",
    "# win rate general depends on Linear Regression Model R2 score\n",
    "win_rate_with_linear = 0.94\n",
    "# mean error \n",
    "error_rate_mean = 4.07"
   ]
  },
  {
   "cell_type": "code",
   "execution_count": 173,
   "metadata": {
    "collapsed": true
   },
   "outputs": [],
   "source": [
    "# battle history check list\n",
    "bat_history = combats_history_df.bat_instance.tolist()"
   ]
  },
  {
   "cell_type": "code",
   "execution_count": 174,
   "metadata": {
    "collapsed": true
   },
   "outputs": [],
   "source": [
    "# generate battle instance\n",
    "def get_battle_instance(pok_1, pok_2):\n",
    "    pok_container = [np.int(pok_1), np.int(pok_2)]\n",
    "    pok_container.sort()\n",
    "    battle = str(pok_container[0]) + 'vs' + str(pok_container[1])\n",
    "    \n",
    "    return battle"
   ]
  },
  {
   "cell_type": "code",
   "execution_count": 245,
   "metadata": {
    "collapsed": true
   },
   "outputs": [],
   "source": [
    "# check battle num if battle does not have related records in hostory or record result are even\n",
    "# win battle check is based on win_battle VS win_rate linear model\n",
    "predict_win_rate = lambda x: x * 0.93 + 2.35\n",
    "def check_win_battle(pok_id_1, pok_id_2):\n",
    "    # select out pokemon series\n",
    "    pok_s_1 = full.loc[full.pokemon_id == pok_id_1].T.squeeze()\n",
    "    pok_s_2 = full.loc[full.pokemon_id == pok_id_2].T.squeeze()\n",
    "    # check if this is a low possibility win predict\n",
    "    win_rate_dif = np.abs(pok_s_1.win_rate - pok_s_2.win_rate)\n",
    "    #win_bat_dif = pok_s_1.win_battle - pok_s_2.win_battle\n",
    "    if win_rate_dif < error_rate_mean:\n",
    "        exp_rate_1 = predict_win_rate(pok_s_1.win_battle)\n",
    "        exp_rate_2 = predict_win_rate(pok_s_2.win_battle)\n",
    "        exp_dif = np.abs(exp_rate_1 - exp_rate_2)\n",
    "        rate_dif = np.abs(exp_dif - win_rate_dif)\n",
    "        if exp_dif >= win_rate_dif:\n",
    "            win_rate_predict = np.round(win_rate_with_linear * (win_rate_dif - rate_dif) / 100, decimals=2)\n",
    "        else:\n",
    "            win_rate_predict = np.round(win_rate_with_linear * (win_rate_dif + rate_dif) / 100, decimals=2)\n",
    "    else:\n",
    "        win_rate_predict = win_rate_with_linear\n",
    "    \n",
    "    if pok_s_1.win_rate > pok_s_2.win_rate:\n",
    "        win_pre = pok_s_1.pokemon_id\n",
    "    else:\n",
    "        win_pre = pok_s_2.pokemon_id\n",
    "    \n",
    "    return {'win_predict': win_pre, 'win_rate': win_rate_predict, 'history': False}"
   ]
  },
  {
   "cell_type": "code",
   "execution_count": 246,
   "metadata": {
    "collapsed": true
   },
   "outputs": [],
   "source": [
    "def predict_winner(pok_id_1, pok_id_2):\n",
    "    pok_1 = np.int(pok_id_1)\n",
    "    pok_2 = np.int(pok_id_2)\n",
    "    # set up battle instance\n",
    "    battle = get_battle_instance(pok_1, pok_2)\n",
    "    \n",
    "    # check if this battle has history \n",
    "    if battle in combats_history_df.bat_instance.tolist():\n",
    "        # select the record out\n",
    "        record = combats_history_df.loc[combats_history_df.bat_instance == battle].T.squeeze()\n",
    "        \n",
    "        # check if win_rate > 50%\n",
    "        if record['win_rate'] > 50:\n",
    "            # check if this win_rate has enough records as reference\n",
    "            bat_time = record['battle_time']\n",
    "            bat_num_check = bat_time + 1\n",
    "            bat_sum = win_rate_check.loc[(bat_num_check)].win_num.sum()\n",
    "            \n",
    "            # check if bat_num data sample big enough\n",
    "            if bat_sum > enough_history:\n",
    "                # select valid data out (win_rate > 50)\n",
    "                valid_d = win_rate_check.loc[(bat_num_check)].loc[win_rate_check.loc[(bat_num_check)].index > 50]\n",
    "                win_rate = 0\n",
    "                for index, row in valid_d.iterrows():\n",
    "                    row_rate = np.round(index * row['per'] / 100, decimals=2)\n",
    "                    win_rate = win_rate + row_rate\n",
    "                win_pre = record['Winner']\n",
    "                win_out = {'win_predict': win_pre, 'win_rate': win_rate, 'history': True}\n",
    "                \n",
    "            else:\n",
    "                win_out = check_win_battle(pok_1, pok_2)\n",
    "            \n",
    "        else:\n",
    "            win_out = check_win_battle(pok_1, pok_2)\n",
    "\n",
    "    else:\n",
    "        win_out = check_win_battle(pok_1, pok_2)\n",
    "        \n",
    "    return win_out"
   ]
  },
  {
   "cell_type": "code",
   "execution_count": 247,
   "metadata": {},
   "outputs": [
    {
     "data": {
      "text/plain": [
       "{'history': False, 'win_predict': 3.0, 'win_rate': 0.94}"
      ]
     },
     "execution_count": 247,
     "metadata": {},
     "output_type": "execute_result"
    }
   ],
   "source": [
    "predict_winner(pok_t_1, pok_t_2)"
   ]
  },
  {
   "cell_type": "markdown",
   "metadata": {},
   "source": [
    "# test prediction "
   ]
  },
  {
   "cell_type": "code",
   "execution_count": 249,
   "metadata": {
    "collapsed": true
   },
   "outputs": [],
   "source": [
    "# choose 10000 sample\n",
    "combats_test = combats[40000:]"
   ]
  },
  {
   "cell_type": "code",
   "execution_count": 250,
   "metadata": {
    "collapsed": true
   },
   "outputs": [],
   "source": [
    "def test_prediction(test_df):\n",
    "    win_out_list = []\n",
    "    for index, row in test_df.iterrows():\n",
    "        pok_1 = row['First_pokemon']\n",
    "        pok_2 = row['Second_pokemon']\n",
    "        win_pre = predict_winner(pok_1, pok_2)\n",
    "        win_out_list.append(win_pre)\n",
    "    \n",
    "    return win_out_list"
   ]
  },
  {
   "cell_type": "code",
   "execution_count": 251,
   "metadata": {
    "collapsed": true
   },
   "outputs": [],
   "source": [
    "win_out_list = []\n",
    "for index, row in combats_test.iterrows():\n",
    "    pok_1 = row['First_pokemon']\n",
    "    pok_2 = row['Second_pokemon']\n",
    "    win_pre = predict_winner(pok_1, pok_2)\n",
    "    win_out_list.append(win_pre)"
   ]
  },
  {
   "cell_type": "code",
   "execution_count": 252,
   "metadata": {
    "collapsed": true
   },
   "outputs": [],
   "source": [
    "combats_out = combats_test.reset_index().join(pd.DataFrame(win_out_list))\n",
    "error_list = combats_out.loc[combats_out.Winner != combats_out.win_predict].reset_index().drop(columns=['index'])"
   ]
  },
  {
   "cell_type": "code",
   "execution_count": 272,
   "metadata": {
    "collapsed": true
   },
   "outputs": [],
   "source": [
    "predict_err_rate = pd.DataFrame(\n",
    "    data ={\n",
    "        'err': error_list.groupby('history').history.count(),\n",
    "        'total': combats_out.groupby('history').history.count(),\n",
    "    }\n",
    ")"
   ]
  },
  {
   "cell_type": "code",
   "execution_count": 275,
   "metadata": {},
   "outputs": [
    {
     "data": {
      "text/html": [
       "<div>\n",
       "<style scoped>\n",
       "    .dataframe tbody tr th:only-of-type {\n",
       "        vertical-align: middle;\n",
       "    }\n",
       "\n",
       "    .dataframe tbody tr th {\n",
       "        vertical-align: top;\n",
       "    }\n",
       "\n",
       "    .dataframe thead th {\n",
       "        text-align: right;\n",
       "    }\n",
       "</style>\n",
       "<table border=\"1\" class=\"dataframe\">\n",
       "  <thead>\n",
       "    <tr style=\"text-align: right;\">\n",
       "      <th></th>\n",
       "      <th>err</th>\n",
       "      <th>total</th>\n",
       "      <th>rate</th>\n",
       "    </tr>\n",
       "    <tr>\n",
       "      <th>history</th>\n",
       "      <th></th>\n",
       "      <th></th>\n",
       "      <th></th>\n",
       "    </tr>\n",
       "  </thead>\n",
       "  <tbody>\n",
       "    <tr>\n",
       "      <th>False</th>\n",
       "      <td>1091</td>\n",
       "      <td>8826</td>\n",
       "      <td>12.36</td>\n",
       "    </tr>\n",
       "    <tr>\n",
       "      <th>True</th>\n",
       "      <td>27</td>\n",
       "      <td>1174</td>\n",
       "      <td>2.30</td>\n",
       "    </tr>\n",
       "  </tbody>\n",
       "</table>\n",
       "</div>"
      ],
      "text/plain": [
       "          err  total   rate\n",
       "history                    \n",
       "False    1091   8826  12.36\n",
       "True       27   1174   2.30"
      ]
     },
     "execution_count": 275,
     "metadata": {},
     "output_type": "execute_result"
    }
   ],
   "source": [
    "# pokemon has battle history has much lower error rate in prediction \n",
    "# battle prediction accuracy could increase with gaining battle instance data\n",
    "predict_err_rate['rate'] = np.round(predict_err_rate.err / predict_err_rate.total * 100, decimals=2)\n",
    "predict_err_rate"
   ]
  },
  {
   "cell_type": "markdown",
   "metadata": {},
   "source": [
    "# check error list and solution to modify model"
   ]
  },
  {
   "cell_type": "code",
   "execution_count": 239,
   "metadata": {
    "collapsed": true
   },
   "outputs": [],
   "source": [
    "# check error list\n",
    "error_num_list = []\n",
    "errot_rate_list = []\n",
    "has_history_list = []\n",
    "for index, row in error_list.iterrows():\n",
    "    #error record are not caused by historical data\n",
    "    battle = get_battle_instance(row['First_pokemon'], row['Second_pokemon'])\n",
    "   \n",
    "    pok_1 = full.loc[full.pokemon_id == row['First_pokemon']]\n",
    "    pok_2 = full.loc[full.pokemon_id == row['Second_pokemon']]\n",
    "    pok_1 = pok_1.append(pok_2)\n",
    "    #dif_bat_num = np.absolute(pok_1.iloc[0]['battle_num'] - pok_1.iloc[1]['battle_num'])\n",
    "    dif_win_num = np.absolute(pok_1.iloc[0]['win_battle'] - pok_1.iloc[1]['win_battle'])\n",
    "    dif_win_rate = np.absolute(pok_1.iloc[0]['win_rate'] - pok_1.iloc[1]['win_rate'])\n",
    "    error_num_list.append(dif_win_num)\n",
    "    errot_rate_list.append(dif_win_rate)"
   ]
  },
  {
   "cell_type": "code",
   "execution_count": 234,
   "metadata": {
    "collapsed": true
   },
   "outputs": [],
   "source": [
    "# error number mean\n",
    "error_num = pd.Series(error_num_list).dropna()\n",
    "error_num_mean = np.round(error_num.mean(), decimals=2)"
   ]
  },
  {
   "cell_type": "code",
   "execution_count": 237,
   "metadata": {},
   "outputs": [
    {
     "name": "stdout",
     "output_type": "stream",
     "text": [
      "17.28 15.37\n"
     ]
    }
   ],
   "source": [
    "# error rate mean \n",
    "errot_rate = pd.Series(errot_rate_list).dropna()\n",
    "error_rate_mean = np.round(errot_rate.mean(), decimals=2)\n",
    "# will update these 2 parametres in def check_win_battle to improve win rate accuracy\n",
    "print(error_num_mean, error_rate_mean)"
   ]
  }
 ],
 "metadata": {
  "kernelspec": {
   "display_name": "Python 3",
   "language": "python",
   "name": "python3"
  },
  "language_info": {
   "codemirror_mode": {
    "name": "ipython",
    "version": 3
   },
   "file_extension": ".py",
   "mimetype": "text/x-python",
   "name": "python",
   "nbconvert_exporter": "python",
   "pygments_lexer": "ipython3",
   "version": "3.6.3"
  }
 },
 "nbformat": 4,
 "nbformat_minor": 2
}
