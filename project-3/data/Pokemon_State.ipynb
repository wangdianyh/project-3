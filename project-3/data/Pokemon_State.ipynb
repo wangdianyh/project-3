{
 "cells": [
  {
   "cell_type": "code",
   "execution_count": 1,
   "metadata": {
    "collapsed": true
   },
   "outputs": [],
   "source": [
    "import pandas as pd\n",
    "import numpy as np\n",
    "import matplotlib.pyplot as plt\n",
    "from pymongo import MongoClient\n",
    "import requests"
   ]
  },
  {
   "cell_type": "code",
   "execution_count": 2,
   "metadata": {
    "collapsed": true
   },
   "outputs": [],
   "source": [
    "# connect to mongo db\n",
    "client = MongoClient('mongodb://localhost:27017/')\n",
    "db = client.pokemon_db"
   ]
  },
  {
   "cell_type": "code",
   "execution_count": 3,
   "metadata": {
    "collapsed": true
   },
   "outputs": [],
   "source": [
    "# get move data collection\n",
    "col_data = db['pokemon_data']\n",
    "data_base = pd.DataFrame(list(col_data.find()))"
   ]
  },
  {
   "cell_type": "code",
   "execution_count": 4,
   "metadata": {
    "collapsed": true
   },
   "outputs": [],
   "source": [
    "stat_data = data_base[['stats', 'name']]"
   ]
  },
  {
   "cell_type": "code",
   "execution_count": 5,
   "metadata": {
    "collapsed": true
   },
   "outputs": [],
   "source": [
    "stat_list = []\n",
    "for row in stat_data.iterrows():\n",
    "    stat_data = row[1]['stats']\n",
    "   \n",
    "    stat_dict = {}\n",
    "    stat_dict['name'] = row[1]['name']\n",
    "    for stat in stat_data:\n",
    "        stat_dict[stat['stat']['name']] = stat['base_stat']\n",
    "    \n",
    "    stat_list.append(stat_dict)\n",
    "# save to stat_df\n",
    "stat_df = pd.DataFrame(stat_list)"
   ]
  },
  {
   "cell_type": "code",
   "execution_count": 6,
   "metadata": {
    "collapsed": true
   },
   "outputs": [],
   "source": [
    "stat_df['avg_stat'] = np.round((stat_df.attack + stat_df.defense + stat_df.speed + stat_df['special-attack'] + stat_df['special-defense'] + stat_df.hp) / 6, decimals=2) "
   ]
  },
  {
   "cell_type": "code",
   "execution_count": 7,
   "metadata": {},
   "outputs": [
    {
     "data": {
      "text/html": [
       "<div>\n",
       "<style scoped>\n",
       "    .dataframe tbody tr th:only-of-type {\n",
       "        vertical-align: middle;\n",
       "    }\n",
       "\n",
       "    .dataframe tbody tr th {\n",
       "        vertical-align: top;\n",
       "    }\n",
       "\n",
       "    .dataframe thead th {\n",
       "        text-align: right;\n",
       "    }\n",
       "</style>\n",
       "<table border=\"1\" class=\"dataframe\">\n",
       "  <thead>\n",
       "    <tr style=\"text-align: right;\">\n",
       "      <th></th>\n",
       "      <th>attack</th>\n",
       "      <th>defense</th>\n",
       "      <th>hp</th>\n",
       "      <th>special-attack</th>\n",
       "      <th>special-defense</th>\n",
       "      <th>speed</th>\n",
       "      <th>avg_stat</th>\n",
       "    </tr>\n",
       "  </thead>\n",
       "  <tbody>\n",
       "    <tr>\n",
       "      <th>count</th>\n",
       "      <td>964.000000</td>\n",
       "      <td>964.000000</td>\n",
       "      <td>964.000000</td>\n",
       "      <td>964.000000</td>\n",
       "      <td>964.000000</td>\n",
       "      <td>964.000000</td>\n",
       "      <td>964.000000</td>\n",
       "    </tr>\n",
       "    <tr>\n",
       "      <th>mean</th>\n",
       "      <td>79.784232</td>\n",
       "      <td>74.243776</td>\n",
       "      <td>68.961618</td>\n",
       "      <td>73.038382</td>\n",
       "      <td>72.382780</td>\n",
       "      <td>69.304979</td>\n",
       "      <td>72.952407</td>\n",
       "    </tr>\n",
       "    <tr>\n",
       "      <th>std</th>\n",
       "      <td>32.087256</td>\n",
       "      <td>30.994618</td>\n",
       "      <td>25.831501</td>\n",
       "      <td>32.903610</td>\n",
       "      <td>27.670134</td>\n",
       "      <td>29.402007</td>\n",
       "      <td>19.815008</td>\n",
       "    </tr>\n",
       "    <tr>\n",
       "      <th>min</th>\n",
       "      <td>5.000000</td>\n",
       "      <td>5.000000</td>\n",
       "      <td>1.000000</td>\n",
       "      <td>10.000000</td>\n",
       "      <td>20.000000</td>\n",
       "      <td>5.000000</td>\n",
       "      <td>29.170000</td>\n",
       "    </tr>\n",
       "    <tr>\n",
       "      <th>25%</th>\n",
       "      <td>55.000000</td>\n",
       "      <td>50.000000</td>\n",
       "      <td>50.000000</td>\n",
       "      <td>50.000000</td>\n",
       "      <td>50.000000</td>\n",
       "      <td>45.000000</td>\n",
       "      <td>55.000000</td>\n",
       "    </tr>\n",
       "    <tr>\n",
       "      <th>50%</th>\n",
       "      <td>75.000000</td>\n",
       "      <td>70.000000</td>\n",
       "      <td>65.000000</td>\n",
       "      <td>65.000000</td>\n",
       "      <td>70.000000</td>\n",
       "      <td>65.000000</td>\n",
       "      <td>75.830000</td>\n",
       "    </tr>\n",
       "    <tr>\n",
       "      <th>75%</th>\n",
       "      <td>100.000000</td>\n",
       "      <td>90.000000</td>\n",
       "      <td>80.000000</td>\n",
       "      <td>95.000000</td>\n",
       "      <td>90.000000</td>\n",
       "      <td>90.000000</td>\n",
       "      <td>85.830000</td>\n",
       "    </tr>\n",
       "    <tr>\n",
       "      <th>max</th>\n",
       "      <td>190.000000</td>\n",
       "      <td>230.000000</td>\n",
       "      <td>255.000000</td>\n",
       "      <td>194.000000</td>\n",
       "      <td>230.000000</td>\n",
       "      <td>180.000000</td>\n",
       "      <td>130.000000</td>\n",
       "    </tr>\n",
       "  </tbody>\n",
       "</table>\n",
       "</div>"
      ],
      "text/plain": [
       "           attack     defense          hp  special-attack  special-defense  \\\n",
       "count  964.000000  964.000000  964.000000      964.000000       964.000000   \n",
       "mean    79.784232   74.243776   68.961618       73.038382        72.382780   \n",
       "std     32.087256   30.994618   25.831501       32.903610        27.670134   \n",
       "min      5.000000    5.000000    1.000000       10.000000        20.000000   \n",
       "25%     55.000000   50.000000   50.000000       50.000000        50.000000   \n",
       "50%     75.000000   70.000000   65.000000       65.000000        70.000000   \n",
       "75%    100.000000   90.000000   80.000000       95.000000        90.000000   \n",
       "max    190.000000  230.000000  255.000000      194.000000       230.000000   \n",
       "\n",
       "            speed    avg_stat  \n",
       "count  964.000000  964.000000  \n",
       "mean    69.304979   72.952407  \n",
       "std     29.402007   19.815008  \n",
       "min      5.000000   29.170000  \n",
       "25%     45.000000   55.000000  \n",
       "50%     65.000000   75.830000  \n",
       "75%     90.000000   85.830000  \n",
       "max    180.000000  130.000000  "
      ]
     },
     "execution_count": 7,
     "metadata": {},
     "output_type": "execute_result"
    }
   ],
   "source": [
    "stat_df.describe()"
   ]
  },
  {
   "cell_type": "markdown",
   "metadata": {},
   "source": [
    "# get stat affecting move data"
   ]
  },
  {
   "cell_type": "code",
   "execution_count": null,
   "metadata": {
    "collapsed": true
   },
   "outputs": [],
   "source": []
  }
 ],
 "metadata": {
  "kernelspec": {
   "display_name": "Python 3",
   "language": "python",
   "name": "python3"
  },
  "language_info": {
   "codemirror_mode": {
    "name": "ipython",
    "version": 3
   },
   "file_extension": ".py",
   "mimetype": "text/x-python",
   "name": "python",
   "nbconvert_exporter": "python",
   "pygments_lexer": "ipython3",
   "version": "3.6.3"
  }
 },
 "nbformat": 4,
 "nbformat_minor": 2
}
