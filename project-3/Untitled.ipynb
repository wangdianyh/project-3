{
 "cells": [
  {
   "cell_type": "code",
   "execution_count": 1,
   "metadata": {
    "collapsed": true
   },
   "outputs": [],
   "source": [
    "from pyspark.sql import SparkSession\n",
    "from pyspark.ml.feature import Tokenizer, StopWordsRemover"
   ]
  },
  {
   "cell_type": "code",
   "execution_count": 2,
   "metadata": {
    "collapsed": true
   },
   "outputs": [],
   "source": [
    "# create your spark app and session\n",
    "spark = SparkSession.builder.appName('stopwords').getOrCreate()"
   ]
  },
  {
   "cell_type": "code",
   "execution_count": 3,
   "metadata": {},
   "outputs": [
    {
     "name": "stdout",
     "output_type": "stream",
     "text": [
      "+--------------------+\n",
      "|             Reviews|\n",
      "+--------------------+\n",
      "|The pasta was a d...|\n",
      "|We ate the fish i...|\n",
      "|My family did not...|\n",
      "|The girl even tri...|\n",
      "|this is his job a...|\n",
      "|I'm always greete...|\n",
      "+--------------------+\n",
      "\n"
     ]
    }
   ],
   "source": [
    "# Load in data\n",
    "from pyspark import SparkFiles\n",
    "url =\"https://s3.amazonaws.com/dataviz-curriculum/day_2/food_reviews.csv\"\n",
    "spark.sparkContext.addFile(url)\n",
    "df = spark.read.csv(SparkFiles.get(\"food_reviews.csv\"), sep=\",\", header=True)\n",
    "df.show()"
   ]
  },
  {
   "cell_type": "code",
   "execution_count": 4,
   "metadata": {
    "collapsed": true
   },
   "outputs": [],
   "source": [
    "# Tokenize dataframe  \n",
    "tk_data = Tokenizer(inputCol='Reviews', outputCol='words')\n",
    "# Transform dataframe\n",
    "tk_df = tk_data.transform(df)"
   ]
  },
  {
   "cell_type": "code",
   "execution_count": 6,
   "metadata": {},
   "outputs": [
    {
     "name": "stdout",
     "output_type": "stream",
     "text": [
      "+--------------------+--------------------+\n",
      "|             Reviews|               words|\n",
      "+--------------------+--------------------+\n",
      "|The pasta was a d...|[the, pasta, was,...|\n",
      "|We ate the fish i...|[we, ate, the, fi...|\n",
      "|My family did not...|[my, family, did,...|\n",
      "|The girl even tri...|[the, girl, even,...|\n",
      "|this is his job a...|[this, is, his, j...|\n",
      "|I'm always greete...|[i'm, always, gre...|\n",
      "+--------------------+--------------------+\n",
      "\n"
     ]
    }
   ],
   "source": [
    "tk_df.show()"
   ]
  },
  {
   "cell_type": "code",
   "execution_count": 8,
   "metadata": {},
   "outputs": [],
   "source": [
    "# Remove stop words\n",
    "remove_words = StopWordsRemover(inputCol='words', outputCol='removed')\n",
    "# Transform new dataframe \n",
    "remove_df = remove_words.transform(tk_df)"
   ]
  },
  {
   "cell_type": "code",
   "execution_count": 9,
   "metadata": {},
   "outputs": [
    {
     "name": "stdout",
     "output_type": "stream",
     "text": [
      "+--------------------+--------------------+--------------------+\n",
      "|             Reviews|               words|             removed|\n",
      "+--------------------+--------------------+--------------------+\n",
      "|The pasta was a d...|[the, pasta, was,...|       [pasta, dish]|\n",
      "|We ate the fish i...|[we, ate, the, fi...|  [ate, fish, tasty]|\n",
      "|My family did not...|[my, family, did,...|[family, like, food]|\n",
      "|The girl even tri...|[the, girl, even,...|[girl, even, trie...|\n",
      "|this is his job a...|[this, is, his, j...|[job, since, prob...|\n",
      "|I'm always greete...|[i'm, always, gre...|[always, greeted,...|\n",
      "+--------------------+--------------------+--------------------+\n",
      "\n"
     ]
    }
   ],
   "source": [
    "# Show simplified review\n",
    "remove_df.show()"
   ]
  },
  {
   "cell_type": "code",
   "execution_count": 11,
   "metadata": {},
   "outputs": [],
   "source": [
    "# Stop spark\n",
    "spark.stop()"
   ]
  },
  {
   "cell_type": "code",
   "execution_count": null,
   "metadata": {
    "collapsed": true
   },
   "outputs": [],
   "source": []
  }
 ],
 "metadata": {
  "kernelspec": {
   "display_name": "Python 3",
   "language": "python",
   "name": "python3"
  },
  "language_info": {
   "codemirror_mode": {
    "name": "ipython",
    "version": 3
   },
   "file_extension": ".py",
   "mimetype": "text/x-python",
   "name": "python",
   "nbconvert_exporter": "python",
   "pygments_lexer": "ipython3",
   "version": "3.6.3"
  }
 },
 "nbformat": 4,
 "nbformat_minor": 2
}
